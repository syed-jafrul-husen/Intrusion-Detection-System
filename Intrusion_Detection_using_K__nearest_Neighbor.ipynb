{
  "nbformat": 4,
  "nbformat_minor": 0,
  "metadata": {
    "colab": {
      "name": "Intrusion Detection using K-_nearest Neighbor.ipynb",
      "provenance": [],
      "collapsed_sections": []
    },
    "kernelspec": {
      "name": "python3",
      "display_name": "Python 3"
    },
    "language_info": {
      "name": "python"
    },
    "accelerator": "GPU"
  },
  "cells": [
    {
      "cell_type": "code",
      "source": [
        "from google.colab import drive\n",
        "drive.mount(\"/content/drive\")"
      ],
      "metadata": {
        "colab": {
          "base_uri": "https://localhost:8080/"
        },
        "id": "eJmObu85-FP9",
        "outputId": "e0e87b76-1c02-4881-bee3-bf44491030a0"
      },
      "execution_count": null,
      "outputs": [
        {
          "output_type": "stream",
          "name": "stdout",
          "text": [
            "Mounted at /content/drive\n"
          ]
        }
      ]
    },
    {
      "cell_type": "markdown",
      "source": [
        "### Library Import"
      ],
      "metadata": {
        "id": "LbkV1STAf4g-"
      }
    },
    {
      "cell_type": "code",
      "execution_count": null,
      "metadata": {
        "id": "8YZlzft17LQT"
      },
      "outputs": [],
      "source": [
        "from sklearn.neighbors import KNeighborsClassifier\n",
        "from sklearn.preprocessing import Normalizer\n",
        "\n",
        "from sklearn.metrics import confusion_matrix\n",
        "from sklearn.metrics import (precision_score, recall_score,f1_score, accuracy_score,mean_squared_error,mean_absolute_error, roc_curve, classification_report,auc)\n",
        "from sklearn.metrics import classification_report\n",
        "from sklearn import metrics\n",
        "\n",
        "import pandas as pd\n",
        "import numpy as np"
      ]
    },
    {
      "cell_type": "markdown",
      "source": [
        "### Data Read"
      ],
      "metadata": {
        "id": "IF8cdgrKf90m"
      }
    },
    {
      "cell_type": "code",
      "source": [
        "trainData = pd.read_csv('/content/drive/MyDrive/Colab Notebooks/Intrusion Detection in Cyber Security/kddTraining.csv', header=None)\n",
        "testData = pd.read_csv('/content/drive/MyDrive/Colab Notebooks/Intrusion Detection in Cyber Security/kddTesting.csv', header=None)\n",
        "\n",
        "print('Dimension of Training data: ',trainData.shape)\n",
        "print('Dimension of Testing data: ',testData.shape)"
      ],
      "metadata": {
        "colab": {
          "base_uri": "https://localhost:8080/"
        },
        "id": "A8Qn0dKtgEkX",
        "outputId": "a4fd4f76-871e-4827-8b48-0d8f6ae807b0"
      },
      "execution_count": null,
      "outputs": [
        {
          "output_type": "stream",
          "name": "stdout",
          "text": [
            "Dimension of Training data:  (494021, 42)\n",
            "Dimension of Testing data:  (311029, 42)\n"
          ]
        }
      ]
    },
    {
      "cell_type": "markdown",
      "source": [
        "### Normalization, and Transform"
      ],
      "metadata": {
        "id": "Nflb2GU7hP_u"
      }
    },
    {
      "cell_type": "code",
      "source": [
        "# Training Data\n",
        "data = trainData.iloc[:,1:42]\n",
        "norm = Normalizer().fit(data)\n",
        "trainX = norm.transform(data)\n",
        "trainX = np.array(trainX)\n",
        "trainLabel = np.array(trainData.iloc[:,0])\n",
        "\n",
        "# Testing Data\n",
        "data = testData.iloc[:,1:42]\n",
        "norm = Normalizer().fit(data)\n",
        "testX = norm.transform(data)\n",
        "testX = np.array(testX)\n",
        "testLabel = np.array(testData.iloc[:,0])"
      ],
      "metadata": {
        "id": "QQxbHGL97PUj"
      },
      "execution_count": null,
      "outputs": []
    },
    {
      "cell_type": "markdown",
      "source": [
        "### Train the model using K-nearest Neighbour"
      ],
      "metadata": {
        "id": "sTo8QkhLjvWJ"
      }
    },
    {
      "cell_type": "code",
      "source": [
        "model = KNeighborsClassifier()\n",
        "model.fit(trainX, trainLabel)\n",
        "print(model)"
      ],
      "metadata": {
        "colab": {
          "base_uri": "https://localhost:8080/"
        },
        "id": "3IEArHZ1kJWx",
        "outputId": "d3409a10-1da9-4411-e953-cd23bc42a118"
      },
      "execution_count": null,
      "outputs": [
        {
          "output_type": "stream",
          "name": "stdout",
          "text": [
            "KNeighborsClassifier()\n"
          ]
        }
      ]
    },
    {
      "cell_type": "markdown",
      "source": [
        "### Prediction"
      ],
      "metadata": {
        "id": "FozbhTqWkUn4"
      }
    },
    {
      "cell_type": "code",
      "source": [
        "predicted = model.predict(testX)"
      ],
      "metadata": {
        "id": "Mnm1gobvklO3"
      },
      "execution_count": null,
      "outputs": []
    },
    {
      "cell_type": "code",
      "source": [
        "print(predicted)"
      ],
      "metadata": {
        "colab": {
          "base_uri": "https://localhost:8080/"
        },
        "id": "Kyne6Qh5mGpl",
        "outputId": "bd522b06-3fe4-49ed-bd8b-13f340892297"
      },
      "execution_count": null,
      "outputs": [
        {
          "output_type": "stream",
          "name": "stdout",
          "text": [
            "[0 0 0 ... 0 0 0]\n"
          ]
        }
      ]
    },
    {
      "cell_type": "code",
      "source": [
        "np.savetxt('predictedLabelKNN.txt', predicted, fmt='%01d')"
      ],
      "metadata": {
        "id": "tEkUUw1rwtVp"
      },
      "execution_count": null,
      "outputs": []
    },
    {
      "cell_type": "markdown",
      "source": [
        "### Model Summary"
      ],
      "metadata": {
        "id": "9mZD7ocHkzKy"
      }
    },
    {
      "cell_type": "code",
      "source": [
        "accuracy = accuracy_score(testLabel, predicted)\n",
        "recall = recall_score(testLabel, predicted , average=\"binary\")\n",
        "precision = precision_score(testLabel, predicted , average=\"binary\")\n",
        "f1 = f1_score(testLabel, predicted, average=\"binary\")\n",
        "\n",
        "\n",
        "print(\"Accuracy: \", \"%.4f\" %accuracy)\n",
        "print(\"Precision\", \"%.4f\" %precision)\n",
        "print(\"Racall\", \"%.4f\" %recall)\n",
        "print(\"F1-score\", \"%.4f\" %f1)"
      ],
      "metadata": {
        "colab": {
          "base_uri": "https://localhost:8080/"
        },
        "id": "gJBzoX1z7xSZ",
        "outputId": "c477b744-2144-411c-ebcf-754aa2bbb920"
      },
      "execution_count": null,
      "outputs": [
        {
          "output_type": "stream",
          "name": "stdout",
          "text": [
            "Accuracy:  0.9287\n",
            "Precision 0.9984\n",
            "Racall 0.9130\n",
            "F1-score 0.9538\n"
          ]
        }
      ]
    },
    {
      "cell_type": "code",
      "source": [
        ""
      ],
      "metadata": {
        "id": "BvaoeZef99_x"
      },
      "execution_count": null,
      "outputs": []
    }
  ]
}