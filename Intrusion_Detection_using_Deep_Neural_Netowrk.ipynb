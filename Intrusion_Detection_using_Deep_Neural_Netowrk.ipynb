{
  "nbformat": 4,
  "nbformat_minor": 0,
  "metadata": {
    "colab": {
      "name": "Intrusion Detection using Deep Neural Netowrk.ipynb",
      "provenance": [],
      "collapsed_sections": []
    },
    "kernelspec": {
      "name": "python3",
      "display_name": "Python 3"
    },
    "language_info": {
      "name": "python"
    },
    "accelerator": "GPU"
  },
  "cells": [
    {
      "cell_type": "code",
      "source": [
        "from google.colab import drive\n",
        "drive.mount(\"/content/drive\")"
      ],
      "metadata": {
        "colab": {
          "base_uri": "https://localhost:8080/"
        },
        "id": "uA4uif08n3sM",
        "outputId": "503d9703-b4d1-4588-a5d0-bbf564c8522f"
      },
      "execution_count": 1,
      "outputs": [
        {
          "output_type": "stream",
          "name": "stdout",
          "text": [
            "Mounted at /content/drive\n"
          ]
        }
      ]
    },
    {
      "cell_type": "markdown",
      "source": [
        "### Import Librarys"
      ],
      "metadata": {
        "id": "FfUWHui2oTC8"
      }
    },
    {
      "cell_type": "code",
      "source": [
        "import os\n",
        "import matplotlib.pyplot as plt\n",
        "\n",
        "from keras.preprocessing import sequence\n",
        "from keras.utils import np_utils\n",
        "from keras.models import Sequential\n",
        "from keras.layers import Dense, Dropout, Activation, Embedding\n",
        "from sklearn.metrics import (precision_score, recall_score,f1_score, accuracy_score,mean_squared_error,mean_absolute_error)\n",
        "from sklearn import metrics\n",
        "from sklearn.preprocessing import Normalizer\n",
        "\n",
        "from sklearn.metrics import confusion_matrix\n",
        "from __future__ import print_function\n",
        "from keras.utils.np_utils import to_categorical\n",
        "\n",
        "import pandas as pd\n",
        "import numpy as np\n",
        "np.random.seed(1337)"
      ],
      "metadata": {
        "id": "rfpMBXK4rmst"
      },
      "execution_count": 3,
      "outputs": []
    },
    {
      "cell_type": "markdown",
      "source": [
        "### Read Data"
      ],
      "metadata": {
        "id": "NoUBJ4r7vmB2"
      }
    },
    {
      "cell_type": "code",
      "source": [
        "trainData = pd.read_csv('/content/drive/MyDrive/Colab Notebooks/Intrusion Detection in Cyber Security/kddTraining.csv', header=None)\n",
        "testData = pd.read_csv('/content/drive/MyDrive/Colab Notebooks/Intrusion Detection in Cyber Security/kddTesting.csv', header=None)\n",
        "\n",
        "print('Dimension of Training data: ',trainData.shape)\n",
        "print('Dimension of Testing data: ',testData.shape)"
      ],
      "metadata": {
        "colab": {
          "base_uri": "https://localhost:8080/"
        },
        "id": "TAA7qGv6ry4e",
        "outputId": "1548a059-54f3-4554-949a-84e14d235dfd"
      },
      "execution_count": 4,
      "outputs": [
        {
          "output_type": "stream",
          "name": "stdout",
          "text": [
            "Dimension of Training data:  (494021, 42)\n",
            "Dimension of Testing data:  (311029, 42)\n"
          ]
        }
      ]
    },
    {
      "cell_type": "markdown",
      "source": [
        "### Normalization, and Transform"
      ],
      "metadata": {
        "id": "205LxkwSsbQi"
      }
    },
    {
      "cell_type": "code",
      "source": [
        "# Training Data\n",
        "data = trainData.iloc[:,1:42]\n",
        "norm = Normalizer().fit(data)\n",
        "trainX = norm.transform(data)\n",
        "trainX = np.array(trainX)\n",
        "trainLabel = np.array(trainData.iloc[:,0])\n",
        "\n",
        "# Testing Data\n",
        "data = testData.iloc[:,1:42]\n",
        "norm = Normalizer().fit(data)\n",
        "testX = norm.transform(data)\n",
        "testX = np.array(testX)\n",
        "testLabel = np.array(testData.iloc[:,0])"
      ],
      "metadata": {
        "id": "-el0VSuKr6gr"
      },
      "execution_count": 5,
      "outputs": []
    },
    {
      "cell_type": "markdown",
      "source": [
        "### Train the model"
      ],
      "metadata": {
        "id": "LZx-Wq7Esj4h"
      }
    },
    {
      "cell_type": "code",
      "execution_count": 7,
      "metadata": {
        "id": "krTy5rElnEnt"
      },
      "outputs": [],
      "source": [
        "batch_size = 64\n",
        "\n",
        "model = Sequential()\n",
        "model.add(Dense(1024,input_dim=41,activation='relu'))  \n",
        "model.add(Dropout(0.02))\n",
        "model.add(Dense(512,activation='relu'))  \n",
        "model.add(Dropout(0.02))\n",
        "model.add(Dense(256,activation='relu'))  \n",
        "model.add(Dropout(0.02))\n",
        "model.add(Dense(1))\n",
        "model.add(Activation('sigmoid'))"
      ]
    },
    {
      "cell_type": "code",
      "source": [
        "model.compile(loss='binary_crossentropy',optimizer='adam',metrics=['accuracy'])\n",
        "hist = model.fit(trainX, trainLabel,  batch_size=batch_size, epochs=50)\n",
        "model.save(\"dnn_model.h5\")"
      ],
      "metadata": {
        "colab": {
          "base_uri": "https://localhost:8080/"
        },
        "id": "s2AR9MMYvRWG",
        "outputId": "68de58e9-d473-4840-ee3d-9c05536777fc"
      },
      "execution_count": 8,
      "outputs": [
        {
          "output_type": "stream",
          "name": "stdout",
          "text": [
            "Epoch 1/50\n",
            "7720/7720 [==============================] - 42s 5ms/step - loss: 0.0131 - accuracy: 0.9957\n",
            "Epoch 2/50\n",
            "7720/7720 [==============================] - 49s 6ms/step - loss: 0.0075 - accuracy: 0.9978\n",
            "Epoch 3/50\n",
            "7720/7720 [==============================] - 41s 5ms/step - loss: 0.0063 - accuracy: 0.9981\n",
            "Epoch 4/50\n",
            "7720/7720 [==============================] - 39s 5ms/step - loss: 0.0054 - accuracy: 0.9984\n",
            "Epoch 5/50\n",
            "7720/7720 [==============================] - 37s 5ms/step - loss: 0.0050 - accuracy: 0.9986\n",
            "Epoch 6/50\n",
            "7720/7720 [==============================] - 37s 5ms/step - loss: 0.0045 - accuracy: 0.9987\n",
            "Epoch 7/50\n",
            "7720/7720 [==============================] - 37s 5ms/step - loss: 0.0042 - accuracy: 0.9988\n",
            "Epoch 8/50\n",
            "7720/7720 [==============================] - 37s 5ms/step - loss: 0.0041 - accuracy: 0.9988\n",
            "Epoch 9/50\n",
            "7720/7720 [==============================] - 37s 5ms/step - loss: 0.0038 - accuracy: 0.9989\n",
            "Epoch 10/50\n",
            "7720/7720 [==============================] - 37s 5ms/step - loss: 0.0037 - accuracy: 0.9989\n",
            "Epoch 11/50\n",
            "7720/7720 [==============================] - 37s 5ms/step - loss: 0.0035 - accuracy: 0.9989\n",
            "Epoch 12/50\n",
            "7720/7720 [==============================] - 37s 5ms/step - loss: 0.0035 - accuracy: 0.9990\n",
            "Epoch 13/50\n",
            "7720/7720 [==============================] - 37s 5ms/step - loss: 0.0033 - accuracy: 0.9990\n",
            "Epoch 14/50\n",
            "7720/7720 [==============================] - 37s 5ms/step - loss: 0.0032 - accuracy: 0.9990\n",
            "Epoch 15/50\n",
            "7720/7720 [==============================] - 37s 5ms/step - loss: 0.0031 - accuracy: 0.9991\n",
            "Epoch 16/50\n",
            "7720/7720 [==============================] - 37s 5ms/step - loss: 0.0031 - accuracy: 0.9991\n",
            "Epoch 17/50\n",
            "7720/7720 [==============================] - 36s 5ms/step - loss: 0.0030 - accuracy: 0.9991\n",
            "Epoch 18/50\n",
            "7720/7720 [==============================] - 36s 5ms/step - loss: 0.0030 - accuracy: 0.9991\n",
            "Epoch 19/50\n",
            "7720/7720 [==============================] - 37s 5ms/step - loss: 0.0027 - accuracy: 0.9992\n",
            "Epoch 20/50\n",
            "7720/7720 [==============================] - 37s 5ms/step - loss: 0.0029 - accuracy: 0.9991\n",
            "Epoch 21/50\n",
            "7720/7720 [==============================] - 37s 5ms/step - loss: 0.0027 - accuracy: 0.9991\n",
            "Epoch 22/50\n",
            "7720/7720 [==============================] - 37s 5ms/step - loss: 0.0029 - accuracy: 0.9992\n",
            "Epoch 23/50\n",
            "7720/7720 [==============================] - 36s 5ms/step - loss: 0.0024 - accuracy: 0.9992\n",
            "Epoch 24/50\n",
            "7720/7720 [==============================] - 36s 5ms/step - loss: 0.0027 - accuracy: 0.9992\n",
            "Epoch 25/50\n",
            "7720/7720 [==============================] - 37s 5ms/step - loss: 0.0025 - accuracy: 0.9992\n",
            "Epoch 26/50\n",
            "7720/7720 [==============================] - 37s 5ms/step - loss: 0.0024 - accuracy: 0.9992\n",
            "Epoch 27/50\n",
            "7720/7720 [==============================] - 37s 5ms/step - loss: 0.0025 - accuracy: 0.9992\n",
            "Epoch 28/50\n",
            "7720/7720 [==============================] - 37s 5ms/step - loss: 0.0025 - accuracy: 0.9993\n",
            "Epoch 29/50\n",
            "7720/7720 [==============================] - 37s 5ms/step - loss: 0.0024 - accuracy: 0.9993\n",
            "Epoch 30/50\n",
            "7720/7720 [==============================] - 36s 5ms/step - loss: 0.0022 - accuracy: 0.9993\n",
            "Epoch 31/50\n",
            "7720/7720 [==============================] - 37s 5ms/step - loss: 0.0023 - accuracy: 0.9993\n",
            "Epoch 32/50\n",
            "7720/7720 [==============================] - 37s 5ms/step - loss: 0.0024 - accuracy: 0.9993\n",
            "Epoch 33/50\n",
            "7720/7720 [==============================] - 37s 5ms/step - loss: 0.0023 - accuracy: 0.9993\n",
            "Epoch 34/50\n",
            "7720/7720 [==============================] - 35s 5ms/step - loss: 0.0023 - accuracy: 0.9993\n",
            "Epoch 35/50\n",
            "7720/7720 [==============================] - 36s 5ms/step - loss: 0.0022 - accuracy: 0.9993\n",
            "Epoch 36/50\n",
            "7720/7720 [==============================] - 35s 5ms/step - loss: 0.0021 - accuracy: 0.9994\n",
            "Epoch 37/50\n",
            "7720/7720 [==============================] - 35s 5ms/step - loss: 0.0025 - accuracy: 0.9994\n",
            "Epoch 38/50\n",
            "7720/7720 [==============================] - 36s 5ms/step - loss: 0.0020 - accuracy: 0.9994\n",
            "Epoch 39/50\n",
            "7720/7720 [==============================] - 35s 5ms/step - loss: 0.0020 - accuracy: 0.9994\n",
            "Epoch 40/50\n",
            "7720/7720 [==============================] - 35s 5ms/step - loss: 0.0019 - accuracy: 0.9994\n",
            "Epoch 41/50\n",
            "7720/7720 [==============================] - 36s 5ms/step - loss: 0.0020 - accuracy: 0.9994\n",
            "Epoch 42/50\n",
            "7720/7720 [==============================] - 37s 5ms/step - loss: 0.0019 - accuracy: 0.9994\n",
            "Epoch 43/50\n",
            "7720/7720 [==============================] - 36s 5ms/step - loss: 0.0018 - accuracy: 0.9995\n",
            "Epoch 44/50\n",
            "7720/7720 [==============================] - 36s 5ms/step - loss: 0.0018 - accuracy: 0.9994\n",
            "Epoch 45/50\n",
            "7720/7720 [==============================] - 35s 5ms/step - loss: 0.0020 - accuracy: 0.9994\n",
            "Epoch 46/50\n",
            "7720/7720 [==============================] - 35s 5ms/step - loss: 0.0019 - accuracy: 0.9994\n",
            "Epoch 47/50\n",
            "7720/7720 [==============================] - 36s 5ms/step - loss: 0.0020 - accuracy: 0.9995\n",
            "Epoch 48/50\n",
            "7720/7720 [==============================] - 36s 5ms/step - loss: 0.0017 - accuracy: 0.9995\n",
            "Epoch 49/50\n",
            "7720/7720 [==============================] - 35s 5ms/step - loss: 0.0018 - accuracy: 0.9995\n",
            "Epoch 50/50\n",
            "7720/7720 [==============================] - 36s 5ms/step - loss: 0.0016 - accuracy: 0.9995\n"
          ]
        }
      ]
    },
    {
      "cell_type": "code",
      "source": [
        "model.summary()"
      ],
      "metadata": {
        "colab": {
          "base_uri": "https://localhost:8080/"
        },
        "id": "XpDcnZtEXv2p",
        "outputId": "887530d7-44a9-4f56-a59b-c4f579672fb4"
      },
      "execution_count": 9,
      "outputs": [
        {
          "output_type": "stream",
          "name": "stdout",
          "text": [
            "Model: \"sequential_1\"\n",
            "_________________________________________________________________\n",
            " Layer (type)                Output Shape              Param #   \n",
            "=================================================================\n",
            " dense_4 (Dense)             (None, 1024)              43008     \n",
            "                                                                 \n",
            " dropout_3 (Dropout)         (None, 1024)              0         \n",
            "                                                                 \n",
            " dense_5 (Dense)             (None, 512)               524800    \n",
            "                                                                 \n",
            " dropout_4 (Dropout)         (None, 512)               0         \n",
            "                                                                 \n",
            " dense_6 (Dense)             (None, 256)               131328    \n",
            "                                                                 \n",
            " dropout_5 (Dropout)         (None, 256)               0         \n",
            "                                                                 \n",
            " dense_7 (Dense)             (None, 1)                 257       \n",
            "                                                                 \n",
            " activation_1 (Activation)   (None, 1)                 0         \n",
            "                                                                 \n",
            "=================================================================\n",
            "Total params: 699,393\n",
            "Trainable params: 699,393\n",
            "Non-trainable params: 0\n",
            "_________________________________________________________________\n"
          ]
        }
      ]
    },
    {
      "cell_type": "markdown",
      "source": [
        "### Training accuracy and loss plot"
      ],
      "metadata": {
        "id": "UdVwEND0YRAg"
      }
    },
    {
      "cell_type": "code",
      "source": [
        "plt.figure(figsize=(15, 5))\n",
        "\n",
        "plt.subplot(1, 2, 1)\n",
        "plt.plot(hist.history['accuracy'], label=\"train_accuracy\")\n",
        "plt.title('Training accurace')\n",
        "plt.legend(loc=\"upper left\")\n",
        "\n",
        "plt.subplot(1, 2, 2)\n",
        "plt.plot(hist.history['loss'], label=\"train_loss\")\n",
        "plt.title('Training loss')\n",
        "plt.legend(loc=\"upper left\")\n",
        "plt.show()"
      ],
      "metadata": {
        "colab": {
          "base_uri": "https://localhost:8080/",
          "height": 336
        },
        "id": "MggjSqOBYG0d",
        "outputId": "3e1eb138-334a-4ab4-aacf-a5287f2b6851"
      },
      "execution_count": 10,
      "outputs": [
        {
          "output_type": "display_data",
          "data": {
            "text/plain": [
              "<Figure size 1080x360 with 2 Axes>"
            ],
            "image/png": "[encoded data removed]"
          },
          "metadata": {
            "needs_background": "light"
          }
        }
      ]
    },
    {
      "cell_type": "markdown",
      "source": [
        "### Test"
      ],
      "metadata": {
        "id": "xWWXWi8_tkvU"
      }
    },
    {
      "cell_type": "code",
      "source": [
        "model.load_weights(\"dnn_model.h5\")\n",
        "y_pred = model.predict(testX)\n",
        "y_pred=np.argmax(y_pred,axis=1)"
      ],
      "metadata": {
        "id": "6yh8D3GEnfpK"
      },
      "execution_count": 11,
      "outputs": []
    },
    {
      "cell_type": "code",
      "source": [
        "print(y_pred)"
      ],
      "metadata": {
        "colab": {
          "base_uri": "https://localhost:8080/"
        },
        "id": "-D1_4TsZLc_9",
        "outputId": "9e7bdc6a-d44b-425b-c886-a66fc97a7e40"
      },
      "execution_count": 12,
      "outputs": [
        {
          "output_type": "stream",
          "name": "stdout",
          "text": [
            "[0 0 0 ... 0 0 0]\n"
          ]
        }
      ]
    },
    {
      "cell_type": "code",
      "source": [
        "accuracy = accuracy_score(testLabel, y_pred)\n",
        "recall = recall_score(testLabel, y_pred , average=\"binary\")\n",
        "precision = precision_score(testLabel, y_pred , average=\"binary\")\n",
        "f1 = f1_score(testLabel, y_pred, average=\"binary\")"
      ],
      "metadata": {
        "id": "cs63bgHO84cY"
      },
      "execution_count": null,
      "outputs": []
    },
    {
      "cell_type": "code",
      "source": [
        ""
      ],
      "metadata": {
        "id": "bH3aTZ621spp"
      },
      "execution_count": null,
      "outputs": []
    }
  ]
}